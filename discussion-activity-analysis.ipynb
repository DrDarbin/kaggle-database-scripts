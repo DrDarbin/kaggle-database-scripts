{
 "cells": [
  {
   "cell_type": "code",
   "execution_count": 1,
   "metadata": {
    "_cell_guid": "b1076dfc-b9ad-4769-8c92-a6c4dae69d19",
    "_kg_hide-input": true,
    "_uuid": "8f2839f25d086af736a60e9eeb907d3b93b6e0e5"
   },
   "outputs": [
    {
     "data": {
      "text/html": [
       "        <script type=\"text/javascript\">\n",
       "        window.PlotlyConfig = {MathJaxConfig: 'local'};\n",
       "        if (window.MathJax) {MathJax.Hub.Config({SVG: {font: \"STIX-Web\"}});}\n",
       "        if (typeof require !== 'undefined') {\n",
       "        require.undef(\"plotly\");\n",
       "        requirejs.config({\n",
       "            paths: {\n",
       "                'plotly': ['https://cdn.plot.ly/plotly-latest.min']\n",
       "            }\n",
       "        });\n",
       "        require(['plotly'], function(Plotly) {\n",
       "            window._Plotly = Plotly;\n",
       "        });\n",
       "        }\n",
       "        </script>\n",
       "        "
      ]
     },
     "metadata": {},
     "output_type": "display_data"
    }
   ],
   "source": [
    "## Make Imports \n",
    "from plotly.offline import init_notebook_mode, iplot\n",
    "from wordcloud import WordCloud, STOPWORDS \n",
    "from nltk.stem import WordNetLemmatizer\n",
    "from IPython.core.display import HTML\n",
    "from nltk.corpus import stopwords \n",
    "from collections import Counter\n",
    "import matplotlib.pyplot as plt \n",
    "import plotly.graph_objs as go\n",
    "from plotly import tools\n",
    "import IPython.display\n",
    "from PIL import Image \n",
    "import seaborn as sns\n",
    "import pandas as pd \n",
    "import numpy as np \n",
    "import warnings\n",
    "import operator\n",
    "import string \n",
    "import re \n",
    "\n",
    "## Environment Preparation\n",
    "warnings.filterwarnings(\"ignore\")\n",
    "init_notebook_mode(connected=True)\n",
    "stopwords = stopwords.words(\"english\")\n",
    "punc = string.punctuation \n",
    "lem = WordNetLemmatizer()\n",
    "\n",
    "## Load dataset\n",
    "user_followers = pd.read_csv(\"../input/UserFollowers.csv\")\n",
    "kernels_tag_df = pd.read_csv(\"../input/KernelTags.csv\")\n",
    "messages = pd.read_csv(\"../input/ForumMessages.csv\")\n",
    "forums_df = pd.read_csv(\"../input/Forums.csv\")\n",
    "kernels_df = pd.read_csv(\"../input/Kernels.csv\")\n",
    "tags_df = pd.read_csv(\"../input/Tags.csv\")\n",
    "users = pd.read_csv(\"../input/Users.csv\")\n",
    "\n",
    "## function to clean the text\n",
    "def clean_text(txt):    \n",
    "    txt = txt.lower()\n",
    "    txt = re.sub('<[^<]+?>', '', txt)\n",
    "    txt = \"\".join(x for x in txt if x not in punc)\n",
    "    words = txt.split()\n",
    "    words = [wrd for wrd in words if wrd not in stopwords]\n",
    "    words = [wrd for wrd in words if not wrd.startswith(\"http\")]\n",
    "    txt = \" \".join(words)\n",
    "    return txt\n",
    "\n",
    "## function to generate ngrams\n",
    "def ngrams(txt, n):\n",
    "    txt = txt.split()\n",
    "    output = []\n",
    "    for i in range(len(txt)-n+1):\n",
    "        output.append(\" \".join(txt[i:i+n]))\n",
    "    return output\n",
    "\n",
    "## function to create bins \n",
    "def wordmap(val):\n",
    "    if val < 10:\n",
    "        return \"0-10\"\n",
    "    elif val < 20:\n",
    "        return \"10-25\"\n",
    "    elif val < 50:\n",
    "        return \"25-50\"\n",
    "    elif val < 100:\n",
    "        return \"50-100\"\n",
    "    else:\n",
    "        return \"100+\"\n",
    "\n",
    "## main Analysis Function\n",
    "def _analyze_profile(username):\n",
    "    account_id = users[users[\"UserName\"] == username][\"Id\"].iloc(0)[0]\n",
    "    name = users[users[\"UserName\"] == username][\"DisplayName\"].iloc(0)[0]\n",
    "\n",
    "    mydf = messages[messages[\"PostUserId\"] == account_id]\n",
    "    mydf['PostDate'] = pd.to_datetime(mydf[\"PostDate\"])\n",
    "    mydf[\"weekday\"] = mydf[\"PostDate\"].dt.weekday\n",
    "    mydf[\"monthday\"] = mydf[\"PostDate\"].dt.day\n",
    "    mydf[\"hour\"] = mydf[\"PostDate\"].dt.hour\n",
    "    mydf[\"clean_message\"] = mydf[\"Message\"].fillna(\"\").apply(lambda x : clean_text(x))\n",
    "    mydf[\"word_len\"] = mydf[\"clean_message\"].apply(lambda x : len(x.split()))\n",
    "    mydf[\"char_len\"] = mydf[\"clean_message\"].apply(lambda x : len(x.replace(\" \",\"\")))\n",
    "\n",
    "    text = \" \".join(mydf[\"clean_message\"].dropna())\n",
    "    unigrams = Counter(ngrams(text, 1))\n",
    "    bigrams = Counter(ngrams(text, 2))\n",
    "    unigrams_d = dict(unigrams)\n",
    "    bigrams_d = dict(bigrams)\n",
    "\n",
    "    mydf[\"word_len_bin\"] = mydf[\"word_len\"].apply(wordmap)\n",
    "    mydf[\"char_len_bin\"] = mydf[\"char_len\"].apply(wordmap)\n",
    "\n",
    "    mydf['Date'] = mydf['PostDate'].dt.date\n",
    "    mydf['month'] = mydf['PostDate'].dt.month\n",
    "    dateComments = mydf['Date'].value_counts().to_frame().reset_index().sort_values(\"index\")\n",
    "\n",
    "    mytags = []\n",
    "    forumIDs = list(mydf['ForumTopicId'].values)\n",
    "    for forum_id in forumIDs:\n",
    "        try:\n",
    "            kernel_id = kernels_df[kernels_df[\"ForumTopicId\"] == forum_id]['Id'].iloc(0)[0]\n",
    "            taglist = list(kernels_tag_df[kernels_tag_df[\"KernelId\"] == kernel_id][\"TagId\"].values)\n",
    "            mytags.extend(tags_df[tags_df[\"Id\"].isin(taglist)]['Name'].values)\n",
    "        except Exception as E:\n",
    "            pass\n",
    "    \n",
    "    metrics = {\"mytags\" : mytags, \"unigrams\" : unigrams, \"unigrams_d\" : unigrams_d,\n",
    "               \"bigrams\" : bigrams, \"bigrams_d\" : bigrams_d, \"dateComments\" : dateComments, \n",
    "               \"name\" : name, \"account_id\" : account_id}\n",
    "    return mydf, metrics\n",
    "\n",
    "## Main Visualization Function\n",
    "def _prepare(mydf, metrics):\n",
    "    mytags = metrics[\"mytags\"]\n",
    "    unigrams = metrics[\"unigrams\"]\n",
    "    bigrams = metrics[\"bigrams\"]\n",
    "    bigrams_d = metrics[\"bigrams_d\"]\n",
    "    unigrams_d = metrics[\"unigrams_d\"]\n",
    "    dateComments = metrics[\"dateComments\"] \n",
    "    account_id = metrics[\"account_id\"]\n",
    "    name = metrics[\"name\"]\n",
    "\n",
    "    mpp = {0 : \"Mon\", 1: \"Tue\", 2: \"Wed\", 3:\"Thu\", 4:\"Fri\", 5:\"Sat\", 6:\"Sun\"}\n",
    "    mydf[\"word_density\"] = mydf[\"char_len\"] / (1+mydf[\"word_len\"])\n",
    "    mydf[\"word_density\"] = mydf[\"word_density\"].apply(lambda x : round(x,2))\n",
    "\n",
    "    daymp = {}\n",
    "    lst = mydf[\"weekday\"].value_counts().to_frame().reset_index()\n",
    "    for l,day in lst.iterrows():\n",
    "        daymp[day[\"index\"]] = day[\"weekday\"]\n",
    "    sorted_x = sorted(daymp.items(), key=operator.itemgetter(1), reverse = True)\n",
    "    \n",
    "    # insights_t = {\n",
    "    #     \"Total Discussions\" : len(mydf),\n",
    "    #     \"Average Discussions Per Day\" : int(np.mean(np.array(dateComments[\"Date\"].values))),\n",
    "    #     \"Average Discussions Per Month\" : int(np.mean(mydf[\"month\"].value_counts().values)),\n",
    "    #     \"Maximum Discussions on Single Day\" : int(np.max(np.array(dateComments[\"Date\"].values))),\n",
    "    #     \"Maximum Discussions Date\" : str(dateComments[dateComments[\"Date\"] == np.max(np.array(dateComments[\"Date\"].values))][\"index\"].iloc(0)[0]),\n",
    "    #     \"Most Discussions WeekDay\" : mpp[sorted_x[0][0]],\n",
    "    #     \"Least Discussions WeekDay\" : mpp[sorted_x[-1][0]],\n",
    "    #     \"Average Words Per Discussions\" : int(np.mean(mydf[\"word_len\"])),\n",
    "    #     \"Average Characters Per Discussions\" : int(np.mean(mydf[\"char_len\"])),\n",
    "    #     \"Average Word Density Per Discussions\" : round(np.mean(mydf[\"word_density\"]),2),\n",
    "    #     \"Top KeyWord Used\" : unigrams.most_common()[0][0],\n",
    "    #     \"Top Tag Followed\" : Counter(mytags).most_common(1)[0][0],\n",
    "    #     \"Total Discussions\" : len(mydf),\n",
    "    #    \"Average Discussions Per Day\" : int(np.mean(np.array(dateComments[\"Date\"].values))),\n",
    "    #    \"Average Discussions Per Month\" : int(np.mean(mydf[\"month\"].value_counts().values)),\n",
    "    #     \"Maximum Discussions on Single Day\" : int(np.max(np.array(dateComments[\"Date\"].values))),\n",
    "    #     \"Maximum Discussions Date\" : str(dateComments[dateComments[\"Date\"] == np.max(np.array(dateComments[\"Date\"].values))][\"index\"].iloc(0)[0]),\n",
    "    #    \"Most Discussions WeekDay\" : mpp[sorted_x[0][0]],\n",
    "    #    \"Least Discussions WeekDay\" : mpp[sorted_x[-1][0]],\n",
    "    #    \"Average Words Per Discussions\" : int(np.mean(mydf[\"word_len\"])),\n",
    "    #    \"Average Characters Per Discussions\" : int(np.mean(mydf[\"char_len\"])),\n",
    "    #    \"Average Word Density Per Discussions\" : round(np.mean(mydf[\"word_density\"]),2),\n",
    "    #    \"Top KeyWord Used\" : unigrams.most_common()[0][0],\n",
    "    #    \"Top Tag Followed\" : Counter(mytags).most_common(1)[0][0],\n",
    "    #}\n",
    "    \n",
    "    insights = {\n",
    "        \"Total Discussions\" : len(mydf),\n",
    "        \"Average Discussions Per Day\" : int(np.mean(np.array(dateComments[\"Date\"].values))),\n",
    "        \"Average Discussions Per Month\" : int(np.mean(mydf[\"month\"].value_counts().values)),\n",
    "        \"Maximum Discussions on Single Day\" : int(np.max(np.array(dateComments[\"Date\"].values))),\n",
    "        \"Maximum Discussions Date\" : str(dateComments[dateComments[\"Date\"] == np.max(np.array(dateComments[\"Date\"].values))][\"index\"].iloc(0)[0]),\n",
    "        \"Most Discussions WeekDay\" : mpp[sorted_x[0][0]],\n",
    "        \"Least Discussions WeekDay\" : mpp[sorted_x[-1][0]],\n",
    "        \"Average Words Per Discussions\" : int(np.mean(mydf[\"word_len\"])),\n",
    "        \"Average Characters Per Discussions\" : int(np.mean(mydf[\"char_len\"])),\n",
    "        \"Average Word Density Per Discussions\" : round(np.mean(mydf[\"word_density\"]),2),\n",
    "        \"Top KeyWord Used\" : unigrams.most_common()[0][0],\n",
    "        \"Top Tag Followed\" : Counter(mytags).most_common(1)[0][0],\n",
    "    }\n",
    "\n",
    "    tabs1 = list(insights.keys())\n",
    "    tabvals1 = list(insights.values())\n",
    "    tr9 = go.Table(header=dict(values=['Metric', 'Value'], line = dict(color='#7D7F80'), fill = dict(color='#a1c3d1'), align = ['left'] * 2),\n",
    "                     cells=dict(values=[tabs1, tabvals1], line = dict(color='#7D7F80'), fill = dict(color='#EDFAFF'), align = ['left'] * 2))\n",
    "\n",
    "    layout = dict(title=\"Report Summary : \" + name, height=500)\n",
    "    data = [tr9]\n",
    "    fig = dict(data=data, layout=layout)\n",
    "    iplot(fig)\n",
    "\n",
    "    lst = unigrams.most_common(15)\n",
    "    tr1 = go.Bar(y= [c[0] for c in lst][::-1], x= [c[1] for c in lst][::-1], orientation=\"h\") \n",
    "    lst = bigrams.most_common(15)\n",
    "    tr2 = go.Bar(y= [c[0] for c in lst][::-1], x= [c[1] for c in lst][::-1], orientation=\"h\") \n",
    "\n",
    "    dvals = [daymp[0], daymp[1], daymp[2], daymp[3], daymp[4], daymp[5], daymp[6]]\n",
    "    tr3 = go.Bar(x= [\"Mon\", \"Tue\", \"Wed\", \"Thu\", \"Fri\", \"Sat\", \"Sun\"], y= dvals, marker=dict(color=\"#c7a6ea\")) \n",
    "    lst = mydf[\"monthday\"].value_counts()\n",
    "    tr4 = go.Bar(x= lst.index, y= lst.values, marker=dict(color=\"#c7a6ea\")) \n",
    "\n",
    "    lst = dict(mydf[\"word_len_bin\"].value_counts())\n",
    "   # xx = [\"0-10\", \"10-25\", \"25-50\", \"50-100\", \"100+\"]\n",
    "    xx = [\"0-10\", \"10-25\", \"25-50\", \"50-100\"]\n",
    "    yy = [lst[v] for v in xx]\n",
    "    tr5 = go.Bar(x= xx, y= yy, marker=dict(color=\"#eaa5b8\")) \n",
    "    lst = mydf[\"char_len_bin\"].value_counts()\n",
    "    yy = [lst[v] for v in xx]\n",
    "    tr6 = go.Bar(x= xx, y= yy, marker=dict(color=\"#eaa5b8\")) \n",
    "\n",
    "    lst = Counter(mytags).most_common(15)\n",
    "    tr7 = go.Scatter(x=[c+3 for c in range(len(lst))], y = [c[1] for c in lst], text=[c[0] for c in lst], \n",
    "                     textposition='top right', textfont=dict(size=10), mode='markers+text', marker=dict(color=\"#42f4a4\", size=25 ))\n",
    "\n",
    "    fig = tools.make_subplots(rows=5, cols=2, vertical_spacing = 0.05, print_grid=False, specs = [[{\"colspan\" : 2},None], [{},{}], [{},{}], [{\"colspan\" : 2},None], [{\"colspan\" : 2},None]], \n",
    "                             subplot_titles=[\"Discussions by Date\", \"Day of the Week - Discussion Activity\", \"Day of the Month - Discussion Activity\",\n",
    "                                             \"Number of Words per Discussions\", \"Number of Characters used per Discussions\", \n",
    "                                             \"Top Kernel Tags Followed\", \"Followers Gained Since 2017\" ])\n",
    "\n",
    "    tr8 = go.Scatter(x = dateComments[\"index\"], y = dateComments[\"Date\"], mode=\"lines+markers\", line=dict(color=\"orange\", width=3))\n",
    "    myfol = user_followers[user_followers[\"FollowingUserId\"] == account_id]\n",
    "    myfol[\"Date\"] = pd.to_datetime(myfol[\"CreationDate\"])\n",
    "    tmp = myfol[\"Date\"].value_counts().to_frame().reset_index().sort_values(\"index\")\n",
    "    tr10 = go.Scatter(x = tmp[\"index\"], y = tmp[\"Date\"], mode=\"lines+markers\", line=dict(color=\"pink\", width=3))\n",
    "\n",
    "    fig.append_trace(tr8, 1, 1)\n",
    "    fig.append_trace(tr3, 2, 1)\n",
    "    fig.append_trace(tr4, 2, 2)\n",
    "    fig.append_trace(tr5, 3, 1)\n",
    "    fig.append_trace(tr6, 3, 2)\n",
    "    fig.append_trace(tr7, 4, 1)\n",
    "    fig.append_trace(tr10, 5, 1)\n",
    "\n",
    "    fig['layout'].update(barmode='group', title = 'Kaggle Discussions Analysis Report: ' + name,\n",
    "        titlefont=dict(size=22,color='#000'),                     \n",
    "        margin=dict(t=100, b=100),\n",
    "        paper_bgcolor='rgb(254, 247, 234)',\n",
    "        plot_bgcolor='rgb(254, 247, 234)',\n",
    "        height=1300,\n",
    "        showlegend=False)\n",
    "    iplot(fig);\n",
    "    \n",
    "## main wordcloud function\n",
    "def _wc(mydf):\n",
    "    wordcloud = WordCloud(max_font_size=40, max_words=12000, colormap='Dark2_r', random_state=42).generate(str(mydf['clean_message']))\n",
    "    fig = plt.figure(figsize=(12,8))\n",
    "    plt.imshow(wordcloud)\n",
    "    plt.title(\"Top Used Words\")\n",
    "    plt.axis('off')\n",
    "    plt.show()\n",
    "\n",
    "## Function to generate Ngram Bubble Cloud\n",
    "def _ngramCloud(bigrams, username):\n",
    "    strr = \"id,value,value1\\nproject,\\n\"\n",
    "    num = 1\n",
    "    cnt = 1\n",
    "    sizes =[9000,7500,6000,5000,4000,2500,2200,1900,1800,1860]\n",
    "    for j, each in enumerate(bigrams.most_common(100)):\n",
    "        val = each[1]\n",
    "        strr += \"project.\" +str(num)+\".\"+ str(each[0]) + \",\" + str(val) + \",\" + str(val) + \"\\n\"\n",
    "        if cnt % 2 == 0:\n",
    "            num += 1\n",
    "        cnt += 1\n",
    "        if cnt == 100:\n",
    "            break\n",
    "    fout = open(\"flare\"+username+\".csv\", \"w\")\n",
    "    fout.write(strr)\n",
    "\n",
    "    html_p1 = \"\"\"<!DOCTYPE html><svg id='idd_\"\"\"+username+\"\"\"' width=\"760\" height=\"760\" font-family=\"sans-serif\" font-size=\"10\" text-anchor=\"middle\"></svg>\"\"\"\n",
    "    js_p1 = \"\"\"require.config({paths: {d3: \"https://d3js.org/d3.v4.min\"}});\n",
    "    require([\"d3\"], function(d3) {var svg=d3.select(\"#idd_\"\"\"+username+\"\"\"\"),width=+svg.attr(\"width\"),height=+svg.attr(\"height\"),format=d3.format(\",d\"),color=d3.scaleOrdinal(d3.schemeCategory20c);var pack=d3.pack().size([width,height]).padding(1.5);d3.csv(\"flare\"\"\"+username+\"\"\".csv\",function(t){if(t.value=+t.value,t.value)return t},function(t,e){if(t)throw t;var n=d3.hierarchy({children:e}).sum(function(t){return t.value}).each(function(t){if(e=t.data.id){var e,n=e.lastIndexOf(\".\");t.id=e,t.package=e.slice(0,n),t.class=e.slice(n+1)}}),a=(d3.select(\"body\").append(\"div\").style(\"position\",\"absolute\").style(\"z-index\",\"10\").style(\"visibility\",\"hidden\").text(\"a\"),svg.selectAll(\".node\").data(pack(n).leaves()).enter().append(\"g\").attr(\"class\",\"node\").attr(\"transform\",function(t){return\"translate(\"+t.x+\",\"+t.y+\")\"}));a.append(\"circle\").attr(\"id\",function(t){return t.id}).attr(\"r\",function(t){return t.r}).style(\"fill\",function(t){return color(t.package)}),a.append(\"clipPath\").attr(\"id\",function(t){return\"clip-\"+t.id}).append(\"use\").attr(\"xlink:href\",function(t){return\"#\"+t.id}),a.append(\"svg:title\").text(function(t){return t.value}),a.append(\"text\").attr(\"clip-path\",function(t){return\"url(#clip-\"+t.id+\")\"}).selectAll(\"tspan\").data(function(t){return t.class.split(/(?=[A-Z][^A-Z])/g)}).enter().append(\"tspan\").attr(\"x\",0).attr(\"y\",function(t,e,n){return 13+10*(e-n.length/2-.5)}).text(function(t){return t})});});\"\"\"\n",
    "    h = display(HTML(html_p1))\n",
    "    j = IPython.display.Javascript(js_p1)\n",
    "    IPython.display.display_javascript(j)\n",
    "\n",
    "## master function to generate the complete report \n",
    "def _generate_report(username):\n",
    "    mydf, metrics = _analyze_profile(username)\n",
    "    _prepare(mydf, metrics)\n",
    "    display(HTML(\"Top Ngrams Used\"))\n",
    "    _ngramCloud(metrics[\"bigrams\"], username)\n",
    "    _wc(mydf)"
   ]
  },
  {
   "cell_type": "markdown",
   "metadata": {
    "_uuid": "99b43a0eff04b3898f34f669d965999276231e74"
   },
   "source": [
    "# Discussion activity analysis\n",
    "\n",
    "Thanks to [Shivam Bansal's amazing kernel](https://www.kaggle.com/shivamb/analyse-your-kaggle-profile-framework), I was able to analyze my discussions activity on Kaggle.\n",
    "\n",
    "To create your own report, fork this kernel, and invoke the _generate_report function with your username as the argument: \n",
    "\n",
    "**_generate_report(\"your_kaggle_user_name\")**\n",
    "\n",
    "# My discussion activity:\n"
   ]
  },
  {
   "cell_type": "code",
   "execution_count": 2,
   "metadata": {
    "_kg_hide-input": false,
    "_uuid": "73766b93c0df8b71eae603ee0c4d983ddf3c7d12"
   },
   "outputs": [
    {
     "data": {
      "application/vnd.plotly.v1+json": {
       "config": {
        "linkText": "Export to plot.ly",
        "plotlyServerURL": "https://plot.ly",
        "responsive": true,
        "showLink": false
       },
       "data": [
        {
         "cells": {
          "align": [
           "left",
           "left"
          ],
          "fill": {
           "color": "#EDFAFF"
          },
          "line": {
           "color": "#7D7F80"
          },
          "values": [
           [
            "Total Discussions",
            "Average Discussions Per Day",
            "Average Discussions Per Month",
            "Maximum Discussions on Single Day",
            "Maximum Discussions Date",
            "Most Discussions WeekDay",
            "Least Discussions WeekDay",
            "Average Words Per Discussions",
            "Average Characters Per Discussions",
            "Average Word Density Per Discussions",
            "Top KeyWord Used",
            "Top Tag Followed"
           ],
           [
            305,
            3,
            30,
            33,
            "2019-04-11",
            "Thu",
            "Mon",
            10,
            60,
            4.72,
            "thank",
            "starter code"
           ]
          ]
         },
         "header": {
          "align": [
           "left",
           "left"
          ],
          "fill": {
           "color": "#a1c3d1"
          },
          "line": {
           "color": "#7D7F80"
          },
          "values": [
           "Metric",
           "Value"
          ]
         },
         "type": "table",
         "uid": "2d483fb8-b513-4c9a-8b71-090ad4775ea1"
        }
       ],
       "layout": {
        "height": 500,
        "title": {
         "text": "Report Summary : Ilya Khristoforov"
        }
       }
      },
      "text/html": [
       "<div>\n",
       "        \n",
       "        \n",
       "            <div id=\"4b7d4c4a-d80e-4ff9-920d-2361d2af7cd2\" class=\"plotly-graph-div\" style=\"height:500px; width:100%;\"></div>\n",
       "            <script type=\"text/javascript\">\n",
       "                require([\"plotly\"], function(Plotly) {\n",
       "                    window.PLOTLYENV=window.PLOTLYENV || {};\n",
       "                    window.PLOTLYENV.BASE_URL='https://plot.ly';\n",
       "                    \n",
       "                if (document.getElementById(\"4b7d4c4a-d80e-4ff9-920d-2361d2af7cd2\")) {\n",
       "                    Plotly.newPlot(\n",
       "                        '4b7d4c4a-d80e-4ff9-920d-2361d2af7cd2',\n",
       "                        [{\"cells\": {\"align\": [\"left\", \"left\"], \"fill\": {\"color\": \"#EDFAFF\"}, \"line\": {\"color\": \"#7D7F80\"}, \"values\": [[\"Total Discussions\", \"Average Discussions Per Day\", \"Average Discussions Per Month\", \"Maximum Discussions on Single Day\", \"Maximum Discussions Date\", \"Most Discussions WeekDay\", \"Least Discussions WeekDay\", \"Average Words Per Discussions\", \"Average Characters Per Discussions\", \"Average Word Density Per Discussions\", \"Top KeyWord Used\", \"Top Tag Followed\"], [305, 3, 30, 33, \"2019-04-11\", \"Thu\", \"Mon\", 10, 60, 4.72, \"thank\", \"starter code\"]]}, \"header\": {\"align\": [\"left\", \"left\"], \"fill\": {\"color\": \"#a1c3d1\"}, \"line\": {\"color\": \"#7D7F80\"}, \"values\": [\"Metric\", \"Value\"]}, \"type\": \"table\", \"uid\": \"091ac962-78dd-442f-b8e1-b3bdf474ea95\"}],\n",
       "                        {\"height\": 500, \"title\": {\"text\": \"Report Summary : Ilya Khristoforov\"}},\n",
       "                        {\"showLink\": false, \"linkText\": \"Export to plot.ly\", \"plotlyServerURL\": \"https://plot.ly\", \"responsive\": true}\n",
       "                    ).then(function(){\n",
       "                            \n",
       "var gd = document.getElementById('4b7d4c4a-d80e-4ff9-920d-2361d2af7cd2');\n",
       "var x = new MutationObserver(function (mutations, observer) {{\n",
       "        var display = window.getComputedStyle(gd).display;\n",
       "        if (!display || display === 'none') {{\n",
       "            console.log([gd, 'removed!']);\n",
       "            Plotly.purge(gd);\n",
       "            observer.disconnect();\n",
       "        }}\n",
       "}});\n",
       "\n",
       "// Listen for the removal of the full notebook cells\n",
       "var notebookContainer = gd.closest('#notebook-container');\n",
       "if (notebookContainer) {{\n",
       "    x.observe(notebookContainer, {childList: true});\n",
       "}}\n",
       "\n",
       "// Listen for the clearing of the current output cell\n",
       "var outputEl = gd.closest('.output');\n",
       "if (outputEl) {{\n",
       "    x.observe(outputEl, {childList: true});\n",
       "}}\n",
       "\n",
       "                        })\n",
       "                };\n",
       "                });\n",
       "            </script>\n",
       "        </div>"
      ]
     },
     "metadata": {},
     "output_type": "display_data"
    },
    {
     "data": {
      "application/vnd.plotly.v1+json": {
       "config": {
        "linkText": "Export to plot.ly",
        "plotlyServerURL": "https://plot.ly",
        "responsive": true,
        "showLink": false
       },
       "data": [
        {
         "line": {
          "color": "orange",
          "width": 3
         },
         "mode": "lines+markers",
         "type": "scatter",
         "uid": "cd2a1f1c-47bf-4819-9170-95fdad9b1ba1",
         "x": [
          "2018-07-26",
          "2018-07-27",
          "2018-07-31",
          "2018-08-01",
          "2018-08-07",
          "2018-08-17",
          "2018-08-18",
          "2018-08-20",
          "2018-08-21",
          "2018-08-27",
          "2018-09-10",
          "2018-09-15",
          "2018-09-18",
          "2018-09-19",
          "2018-09-26",
          "2018-09-30",
          "2018-10-11",
          "2018-10-12",
          "2018-10-14",
          "2018-10-17",
          "2018-10-18",
          "2018-10-19",
          "2018-10-22",
          "2018-10-23",
          "2018-10-25",
          "2018-10-26",
          "2018-10-27",
          "2018-10-28",
          "2018-10-29",
          "2018-11-03",
          "2018-11-05",
          "2018-11-06",
          "2018-11-09",
          "2018-11-10",
          "2018-11-12",
          "2018-11-13",
          "2018-11-14",
          "2018-11-17",
          "2018-12-01",
          "2018-12-02",
          "2018-12-09",
          "2019-02-14",
          "2019-02-17",
          "2019-02-25",
          "2019-03-06",
          "2019-03-08",
          "2019-03-10",
          "2019-03-11",
          "2019-03-12",
          "2019-03-13",
          "2019-03-14",
          "2019-03-16",
          "2019-03-17",
          "2019-03-18",
          "2019-03-19",
          "2019-03-21",
          "2019-03-22",
          "2019-03-24",
          "2019-03-25",
          "2019-03-26",
          "2019-03-27",
          "2019-03-28",
          "2019-03-29",
          "2019-03-30",
          "2019-03-31",
          "2019-04-01",
          "2019-04-02",
          "2019-04-03",
          "2019-04-04",
          "2019-04-05",
          "2019-04-06",
          "2019-04-07",
          "2019-04-08",
          "2019-04-09",
          "2019-04-10",
          "2019-04-11",
          "2019-04-12",
          "2019-04-13",
          "2019-04-14",
          "2019-04-15",
          "2019-04-16",
          "2019-04-17",
          "2019-04-18",
          "2019-04-20",
          "2019-04-21",
          "2019-04-22",
          "2019-04-23",
          "2019-04-26",
          "2019-04-28",
          "2019-04-29",
          "2019-04-30",
          "2019-05-01",
          "2019-05-02",
          "2019-05-03",
          "2019-05-05"
         ],
         "xaxis": "x",
         "y": [
          1,
          1,
          2,
          3,
          2,
          1,
          4,
          1,
          1,
          2,
          1,
          1,
          1,
          1,
          1,
          1,
          3,
          1,
          2,
          1,
          2,
          4,
          1,
          3,
          1,
          1,
          1,
          1,
          1,
          1,
          1,
          1,
          1,
          1,
          1,
          1,
          1,
          1,
          1,
          1,
          1,
          1,
          1,
          1,
          1,
          1,
          2,
          1,
          1,
          2,
          1,
          3,
          2,
          2,
          3,
          6,
          1,
          4,
          7,
          9,
          3,
          5,
          9,
          7,
          1,
          4,
          6,
          7,
          13,
          5,
          16,
          8,
          5,
          18,
          9,
          33,
          7,
          7,
          7,
          2,
          5,
          3,
          2,
          2,
          1,
          1,
          1,
          1,
          1,
          1,
          1,
          1,
          1,
          4,
          1
         ],
         "yaxis": "y"
        },
        {
         "marker": {
          "color": "#c7a6ea"
         },
         "type": "bar",
         "uid": "171a172a-ed42-49a5-aa57-d7f7abb56cef",
         "x": [
          "Mon",
          "Tue",
          "Wed",
          "Thu",
          "Fri",
          "Sat",
          "Sun"
         ],
         "xaxis": "x2",
         "y": [
          32,
          55,
          33,
          69,
          37,
          45,
          34
         ],
         "yaxis": "y2"
        },
        {
         "marker": {
          "color": "#c7a6ea"
         },
         "type": "bar",
         "uid": "20f72fb5-c2a4-49dc-b2f4-46a73ea51391",
         "x": [
          11,
          9,
          6,
          10,
          26,
          4,
          14,
          3,
          29,
          18,
          12,
          7,
          13,
          25,
          17,
          30,
          1,
          2,
          16,
          19,
          21,
          5,
          27,
          28,
          8,
          23,
          24,
          15,
          20,
          22,
          31
         ],
         "xaxis": "x3",
         "y": [
          37,
          20,
          18,
          13,
          13,
          13,
          12,
          12,
          11,
          11,
          10,
          10,
          10,
          9,
          9,
          9,
          9,
          8,
          8,
          8,
          8,
          7,
          7,
          7,
          6,
          4,
          4,
          3,
          3,
          3,
          3
         ],
         "yaxis": "y3"
        },
        {
         "marker": {
          "color": "#eaa5b8"
         },
         "type": "bar",
         "uid": "2b895fa7-062f-43d4-b4f4-30f1853c4f49",
         "x": [
          "0-10",
          "10-25",
          "25-50",
          "50-100"
         ],
         "xaxis": "x4",
         "y": [
          218,
          47,
          25,
          14
         ],
         "yaxis": "y4"
        },
        {
         "marker": {
          "color": "#eaa5b8"
         },
         "type": "bar",
         "uid": "9b8746c0-1c50-4b74-af36-d1cc2af06014",
         "x": [
          "0-10",
          "10-25",
          "25-50",
          "50-100"
         ],
         "xaxis": "x5",
         "y": [
          46,
          72,
          93,
          49
         ],
         "yaxis": "y5"
        },
        {
         "marker": {
          "color": "#42f4a4",
          "size": 25
         },
         "mode": "markers+text",
         "text": [
          "starter code",
          "data visualization",
          "feature engineering",
          "classification",
          "eda",
          "beginner",
          "clustering",
          "time series",
          "regression",
          "pca",
          "dailychallenge",
          "model comparison",
          "databases",
          "tutorial",
          "learn"
         ],
         "textfont": {
          "size": 10
         },
         "textposition": "top right",
         "type": "scatter",
         "uid": "5aeb5097-1440-424d-8387-3eee2e3121d7",
         "x": [
          3,
          4,
          5,
          6,
          7,
          8,
          9,
          10,
          11,
          12,
          13,
          14,
          15,
          16,
          17
         ],
         "xaxis": "x6",
         "y": [
          25,
          22,
          16,
          13,
          10,
          8,
          7,
          5,
          5,
          5,
          5,
          4,
          4,
          3,
          3
         ],
         "yaxis": "y6"
        },
        {
         "line": {
          "color": "pink",
          "width": 3
         },
         "mode": "lines+markers",
         "type": "scatter",
         "uid": "cad70ce0-bce6-48dd-8450-c7711247833b",
         "x": [
          "2019-01-13",
          "2019-03-12",
          "2019-03-13",
          "2019-03-21",
          "2019-03-25",
          "2019-04-10",
          "2019-04-11",
          "2019-04-16",
          "2019-04-19",
          "2019-04-20",
          "2019-04-21"
         ],
         "xaxis": "x7",
         "y": [
          1,
          2,
          1,
          1,
          1,
          1,
          1,
          2,
          1,
          1,
          1
         ],
         "yaxis": "y7"
        }
       ],
       "layout": {
        "annotations": [
         {
          "font": {
           "size": 16
          },
          "showarrow": false,
          "text": "Discussions by Date",
          "x": 0.5,
          "xanchor": "center",
          "xref": "paper",
          "y": 1.0,
          "yanchor": "bottom",
          "yref": "paper"
         },
         {
          "font": {
           "size": 16
          },
          "showarrow": false,
          "text": "Day of the Week - Discussion Activity",
          "x": 0.225,
          "xanchor": "center",
          "xref": "paper",
          "y": 0.79,
          "yanchor": "bottom",
          "yref": "paper"
         },
         {
          "font": {
           "size": 16
          },
          "showarrow": false,
          "text": "Day of the Month - Discussion Activity",
          "x": 0.775,
          "xanchor": "center",
          "xref": "paper",
          "y": 0.79,
          "yanchor": "bottom",
          "yref": "paper"
         },
         {
          "font": {
           "size": 16
          },
          "showarrow": false,
          "text": "Number of Words per Discussions",
          "x": 0.225,
          "xanchor": "center",
          "xref": "paper",
          "y": 0.5800000000000001,
          "yanchor": "bottom",
          "yref": "paper"
         },
         {
          "font": {
           "size": 16
          },
          "showarrow": false,
          "text": "Number of Characters used per Discussions",
          "x": 0.775,
          "xanchor": "center",
          "xref": "paper",
          "y": 0.5800000000000001,
          "yanchor": "bottom",
          "yref": "paper"
         },
         {
          "font": {
           "size": 16
          },
          "showarrow": false,
          "text": "Top Kernel Tags Followed",
          "x": 0.5,
          "xanchor": "center",
          "xref": "paper",
          "y": 0.37,
          "yanchor": "bottom",
          "yref": "paper"
         },
         {
          "font": {
           "size": 16
          },
          "showarrow": false,
          "text": "Followers Gained Since 2017",
          "x": 0.5,
          "xanchor": "center",
          "xref": "paper",
          "y": 0.16,
          "yanchor": "bottom",
          "yref": "paper"
         }
        ],
        "barmode": "group",
        "height": 1300,
        "margin": {
         "b": 100,
         "t": 100
        },
        "paper_bgcolor": "rgb(254, 247, 234)",
        "plot_bgcolor": "rgb(254, 247, 234)",
        "showlegend": false,
        "title": {
         "font": {
          "color": "#000",
          "size": 22
         },
         "text": "Kaggle Discussions Analysis Report: Ilya Khristoforov"
        },
        "xaxis": {
         "anchor": "y",
         "domain": [
          0.0,
          1.0
         ]
        },
        "xaxis2": {
         "anchor": "y2",
         "domain": [
          0.0,
          0.45
         ]
        },
        "xaxis3": {
         "anchor": "y3",
         "domain": [
          0.55,
          1.0
         ]
        },
        "xaxis4": {
         "anchor": "y4",
         "domain": [
          0.0,
          0.45
         ]
        },
        "xaxis5": {
         "anchor": "y5",
         "domain": [
          0.55,
          1.0
         ]
        },
        "xaxis6": {
         "anchor": "y6",
         "domain": [
          0.0,
          1.0
         ]
        },
        "xaxis7": {
         "anchor": "y7",
         "domain": [
          0.0,
          1.0
         ]
        },
        "yaxis": {
         "anchor": "x",
         "domain": [
          0.8400000000000001,
          1.0
         ]
        },
        "yaxis2": {
         "anchor": "x2",
         "domain": [
          0.63,
          0.79
         ]
        },
        "yaxis3": {
         "anchor": "x3",
         "domain": [
          0.63,
          0.79
         ]
        },
        "yaxis4": {
         "anchor": "x4",
         "domain": [
          0.42000000000000004,
          0.5800000000000001
         ]
        },
        "yaxis5": {
         "anchor": "x5",
         "domain": [
          0.42000000000000004,
          0.5800000000000001
         ]
        },
        "yaxis6": {
         "anchor": "x6",
         "domain": [
          0.21000000000000002,
          0.37
         ]
        },
        "yaxis7": {
         "anchor": "x7",
         "domain": [
          0.0,
          0.16
         ]
        }
       }
      },
      "text/html": [
       "<div>\n",
       "        \n",
       "        \n",
       "            <div id=\"5c0873e5-86ac-4d76-ac32-2848a68254f5\" class=\"plotly-graph-div\" style=\"height:1300px; width:100%;\"></div>\n",
       "            <script type=\"text/javascript\">\n",
       "                require([\"plotly\"], function(Plotly) {\n",
       "                    window.PLOTLYENV=window.PLOTLYENV || {};\n",
       "                    window.PLOTLYENV.BASE_URL='https://plot.ly';\n",
       "                    \n",
       "                if (document.getElementById(\"5c0873e5-86ac-4d76-ac32-2848a68254f5\")) {\n",
       "                    Plotly.newPlot(\n",
       "                        '5c0873e5-86ac-4d76-ac32-2848a68254f5',\n",
       "                        [{\"line\": {\"color\": \"orange\", \"width\": 3}, \"mode\": \"lines+markers\", \"type\": \"scatter\", \"uid\": \"7c797b4a-f935-40c9-b449-cc4e203c029b\", \"x\": [\"2018-07-26\", \"2018-07-27\", \"2018-07-31\", \"2018-08-01\", \"2018-08-07\", \"2018-08-17\", \"2018-08-18\", \"2018-08-20\", \"2018-08-21\", \"2018-08-27\", \"2018-09-10\", \"2018-09-15\", \"2018-09-18\", \"2018-09-19\", \"2018-09-26\", \"2018-09-30\", \"2018-10-11\", \"2018-10-12\", \"2018-10-14\", \"2018-10-17\", \"2018-10-18\", \"2018-10-19\", \"2018-10-22\", \"2018-10-23\", \"2018-10-25\", \"2018-10-26\", \"2018-10-27\", \"2018-10-28\", \"2018-10-29\", \"2018-11-03\", \"2018-11-05\", \"2018-11-06\", \"2018-11-09\", \"2018-11-10\", \"2018-11-12\", \"2018-11-13\", \"2018-11-14\", \"2018-11-17\", \"2018-12-01\", \"2018-12-02\", \"2018-12-09\", \"2019-02-14\", \"2019-02-17\", \"2019-02-25\", \"2019-03-06\", \"2019-03-08\", \"2019-03-10\", \"2019-03-11\", \"2019-03-12\", \"2019-03-13\", \"2019-03-14\", \"2019-03-16\", \"2019-03-17\", \"2019-03-18\", \"2019-03-19\", \"2019-03-21\", \"2019-03-22\", \"2019-03-24\", \"2019-03-25\", \"2019-03-26\", \"2019-03-27\", \"2019-03-28\", \"2019-03-29\", \"2019-03-30\", \"2019-03-31\", \"2019-04-01\", \"2019-04-02\", \"2019-04-03\", \"2019-04-04\", \"2019-04-05\", \"2019-04-06\", \"2019-04-07\", \"2019-04-08\", \"2019-04-09\", \"2019-04-10\", \"2019-04-11\", \"2019-04-12\", \"2019-04-13\", \"2019-04-14\", \"2019-04-15\", \"2019-04-16\", \"2019-04-17\", \"2019-04-18\", \"2019-04-20\", \"2019-04-21\", \"2019-04-22\", \"2019-04-23\", \"2019-04-26\", \"2019-04-28\", \"2019-04-29\", \"2019-04-30\", \"2019-05-01\", \"2019-05-02\", \"2019-05-03\", \"2019-05-05\"], \"xaxis\": \"x\", \"y\": [1, 1, 2, 3, 2, 1, 4, 1, 1, 2, 1, 1, 1, 1, 1, 1, 3, 1, 2, 1, 2, 4, 1, 3, 1, 1, 1, 1, 1, 1, 1, 1, 1, 1, 1, 1, 1, 1, 1, 1, 1, 1, 1, 1, 1, 1, 2, 1, 1, 2, 1, 3, 2, 2, 3, 6, 1, 4, 7, 9, 3, 5, 9, 7, 1, 4, 6, 7, 13, 5, 16, 8, 5, 18, 9, 33, 7, 7, 7, 2, 5, 3, 2, 2, 1, 1, 1, 1, 1, 1, 1, 1, 1, 4, 1], \"yaxis\": \"y\"}, {\"marker\": {\"color\": \"#c7a6ea\"}, \"type\": \"bar\", \"uid\": \"f5ce862f-f2cb-42d1-864c-b1a63e34d118\", \"x\": [\"Mon\", \"Tue\", \"Wed\", \"Thu\", \"Fri\", \"Sat\", \"Sun\"], \"xaxis\": \"x2\", \"y\": [32, 55, 33, 69, 37, 45, 34], \"yaxis\": \"y2\"}, {\"marker\": {\"color\": \"#c7a6ea\"}, \"type\": \"bar\", \"uid\": \"b3f351db-aa40-48a1-8dbd-af9f448c2659\", \"x\": [11, 9, 6, 10, 26, 4, 14, 3, 29, 18, 12, 7, 13, 25, 17, 30, 1, 2, 16, 19, 21, 5, 27, 28, 8, 23, 24, 15, 20, 22, 31], \"xaxis\": \"x3\", \"y\": [37, 20, 18, 13, 13, 13, 12, 12, 11, 11, 10, 10, 10, 9, 9, 9, 9, 8, 8, 8, 8, 7, 7, 7, 6, 4, 4, 3, 3, 3, 3], \"yaxis\": \"y3\"}, {\"marker\": {\"color\": \"#eaa5b8\"}, \"type\": \"bar\", \"uid\": \"198d0484-efe3-4982-892d-64d7e70dd2be\", \"x\": [\"0-10\", \"10-25\", \"25-50\", \"50-100\"], \"xaxis\": \"x4\", \"y\": [218, 47, 25, 14], \"yaxis\": \"y4\"}, {\"marker\": {\"color\": \"#eaa5b8\"}, \"type\": \"bar\", \"uid\": \"84a86cb8-f045-4314-8f5c-536ae83df984\", \"x\": [\"0-10\", \"10-25\", \"25-50\", \"50-100\"], \"xaxis\": \"x5\", \"y\": [46, 72, 93, 49], \"yaxis\": \"y5\"}, {\"marker\": {\"color\": \"#42f4a4\", \"size\": 25}, \"mode\": \"markers+text\", \"text\": [\"starter code\", \"data visualization\", \"feature engineering\", \"classification\", \"eda\", \"beginner\", \"clustering\", \"time series\", \"regression\", \"pca\", \"dailychallenge\", \"model comparison\", \"databases\", \"tutorial\", \"learn\"], \"textfont\": {\"size\": 10}, \"textposition\": \"top right\", \"type\": \"scatter\", \"uid\": \"d000db58-410c-43ba-86d9-7cb5dfcc42a2\", \"x\": [3, 4, 5, 6, 7, 8, 9, 10, 11, 12, 13, 14, 15, 16, 17], \"xaxis\": \"x6\", \"y\": [25, 22, 16, 13, 10, 8, 7, 5, 5, 5, 5, 4, 4, 3, 3], \"yaxis\": \"y6\"}, {\"line\": {\"color\": \"pink\", \"width\": 3}, \"mode\": \"lines+markers\", \"type\": \"scatter\", \"uid\": \"8514329e-f0fb-43b5-82f8-27a93a41c700\", \"x\": [\"2019-01-13\", \"2019-03-12\", \"2019-03-13\", \"2019-03-21\", \"2019-03-25\", \"2019-04-10\", \"2019-04-11\", \"2019-04-16\", \"2019-04-19\", \"2019-04-20\", \"2019-04-21\"], \"xaxis\": \"x7\", \"y\": [1, 2, 1, 1, 1, 1, 1, 2, 1, 1, 1], \"yaxis\": \"y7\"}],\n",
       "                        {\"annotations\": [{\"font\": {\"size\": 16}, \"showarrow\": false, \"text\": \"Discussions by Date\", \"x\": 0.5, \"xanchor\": \"center\", \"xref\": \"paper\", \"y\": 1.0, \"yanchor\": \"bottom\", \"yref\": \"paper\"}, {\"font\": {\"size\": 16}, \"showarrow\": false, \"text\": \"Day of the Week - Discussion Activity\", \"x\": 0.225, \"xanchor\": \"center\", \"xref\": \"paper\", \"y\": 0.79, \"yanchor\": \"bottom\", \"yref\": \"paper\"}, {\"font\": {\"size\": 16}, \"showarrow\": false, \"text\": \"Day of the Month - Discussion Activity\", \"x\": 0.775, \"xanchor\": \"center\", \"xref\": \"paper\", \"y\": 0.79, \"yanchor\": \"bottom\", \"yref\": \"paper\"}, {\"font\": {\"size\": 16}, \"showarrow\": false, \"text\": \"Number of Words per Discussions\", \"x\": 0.225, \"xanchor\": \"center\", \"xref\": \"paper\", \"y\": 0.5800000000000001, \"yanchor\": \"bottom\", \"yref\": \"paper\"}, {\"font\": {\"size\": 16}, \"showarrow\": false, \"text\": \"Number of Characters used per Discussions\", \"x\": 0.775, \"xanchor\": \"center\", \"xref\": \"paper\", \"y\": 0.5800000000000001, \"yanchor\": \"bottom\", \"yref\": \"paper\"}, {\"font\": {\"size\": 16}, \"showarrow\": false, \"text\": \"Top Kernel Tags Followed\", \"x\": 0.5, \"xanchor\": \"center\", \"xref\": \"paper\", \"y\": 0.37, \"yanchor\": \"bottom\", \"yref\": \"paper\"}, {\"font\": {\"size\": 16}, \"showarrow\": false, \"text\": \"Followers Gained Since 2017\", \"x\": 0.5, \"xanchor\": \"center\", \"xref\": \"paper\", \"y\": 0.16, \"yanchor\": \"bottom\", \"yref\": \"paper\"}], \"barmode\": \"group\", \"height\": 1300, \"margin\": {\"b\": 100, \"t\": 100}, \"paper_bgcolor\": \"rgb(254, 247, 234)\", \"plot_bgcolor\": \"rgb(254, 247, 234)\", \"showlegend\": false, \"title\": {\"font\": {\"color\": \"#000\", \"size\": 22}, \"text\": \"Kaggle Discussions Analysis Report: Ilya Khristoforov\"}, \"xaxis\": {\"anchor\": \"y\", \"domain\": [0.0, 1.0]}, \"xaxis2\": {\"anchor\": \"y2\", \"domain\": [0.0, 0.45]}, \"xaxis3\": {\"anchor\": \"y3\", \"domain\": [0.55, 1.0]}, \"xaxis4\": {\"anchor\": \"y4\", \"domain\": [0.0, 0.45]}, \"xaxis5\": {\"anchor\": \"y5\", \"domain\": [0.55, 1.0]}, \"xaxis6\": {\"anchor\": \"y6\", \"domain\": [0.0, 1.0]}, \"xaxis7\": {\"anchor\": \"y7\", \"domain\": [0.0, 1.0]}, \"yaxis\": {\"anchor\": \"x\", \"domain\": [0.8400000000000001, 1.0]}, \"yaxis2\": {\"anchor\": \"x2\", \"domain\": [0.63, 0.79]}, \"yaxis3\": {\"anchor\": \"x3\", \"domain\": [0.63, 0.79]}, \"yaxis4\": {\"anchor\": \"x4\", \"domain\": [0.42000000000000004, 0.5800000000000001]}, \"yaxis5\": {\"anchor\": \"x5\", \"domain\": [0.42000000000000004, 0.5800000000000001]}, \"yaxis6\": {\"anchor\": \"x6\", \"domain\": [0.21000000000000002, 0.37]}, \"yaxis7\": {\"anchor\": \"x7\", \"domain\": [0.0, 0.16]}},\n",
       "                        {\"showLink\": false, \"linkText\": \"Export to plot.ly\", \"plotlyServerURL\": \"https://plot.ly\", \"responsive\": true}\n",
       "                    ).then(function(){\n",
       "                            \n",
       "var gd = document.getElementById('5c0873e5-86ac-4d76-ac32-2848a68254f5');\n",
       "var x = new MutationObserver(function (mutations, observer) {{\n",
       "        var display = window.getComputedStyle(gd).display;\n",
       "        if (!display || display === 'none') {{\n",
       "            console.log([gd, 'removed!']);\n",
       "            Plotly.purge(gd);\n",
       "            observer.disconnect();\n",
       "        }}\n",
       "}});\n",
       "\n",
       "// Listen for the removal of the full notebook cells\n",
       "var notebookContainer = gd.closest('#notebook-container');\n",
       "if (notebookContainer) {{\n",
       "    x.observe(notebookContainer, {childList: true});\n",
       "}}\n",
       "\n",
       "// Listen for the clearing of the current output cell\n",
       "var outputEl = gd.closest('.output');\n",
       "if (outputEl) {{\n",
       "    x.observe(outputEl, {childList: true});\n",
       "}}\n",
       "\n",
       "                        })\n",
       "                };\n",
       "                });\n",
       "            </script>\n",
       "        </div>"
      ]
     },
     "metadata": {},
     "output_type": "display_data"
    },
    {
     "data": {
      "text/html": [
       "Top Ngrams Used"
      ],
      "text/plain": [
       "<IPython.core.display.HTML object>"
      ]
     },
     "metadata": {},
     "output_type": "display_data"
    },
    {
     "data": {
      "text/html": [
       "<!DOCTYPE html><svg id='idd_darbin' width=\"760\" height=\"760\" font-family=\"sans-serif\" font-size=\"10\" text-anchor=\"middle\"></svg>"
      ],
      "text/plain": [
       "<IPython.core.display.HTML object>"
      ]
     },
     "metadata": {},
     "output_type": "display_data"
    },
    {
     "data": {
      "application/javascript": [
       "require.config({paths: {d3: \"https://d3js.org/d3.v4.min\"}});\n",
       "    require([\"d3\"], function(d3) {var svg=d3.select(\"#idd_darbin\"),width=+svg.attr(\"width\"),height=+svg.attr(\"height\"),format=d3.format(\",d\"),color=d3.scaleOrdinal(d3.schemeCategory20c);var pack=d3.pack().size([width,height]).padding(1.5);d3.csv(\"flaredarbin.csv\",function(t){if(t.value=+t.value,t.value)return t},function(t,e){if(t)throw t;var n=d3.hierarchy({children:e}).sum(function(t){return t.value}).each(function(t){if(e=t.data.id){var e,n=e.lastIndexOf(\".\");t.id=e,t.package=e.slice(0,n),t.class=e.slice(n+1)}}),a=(d3.select(\"body\").append(\"div\").style(\"position\",\"absolute\").style(\"z-index\",\"10\").style(\"visibility\",\"hidden\").text(\"a\"),svg.selectAll(\".node\").data(pack(n).leaves()).enter().append(\"g\").attr(\"class\",\"node\").attr(\"transform\",function(t){return\"translate(\"+t.x+\",\"+t.y+\")\"}));a.append(\"circle\").attr(\"id\",function(t){return t.id}).attr(\"r\",function(t){return t.r}).style(\"fill\",function(t){return color(t.package)}),a.append(\"clipPath\").attr(\"id\",function(t){return\"clip-\"+t.id}).append(\"use\").attr(\"xlink:href\",function(t){return\"#\"+t.id}),a.append(\"svg:title\").text(function(t){return t.value}),a.append(\"text\").attr(\"clip-path\",function(t){return\"url(#clip-\"+t.id+\")\"}).selectAll(\"tspan\").data(function(t){return t.class.split(/(?=[A-Z][^A-Z])/g)}).enter().append(\"tspan\").attr(\"x\",0).attr(\"y\",function(t,e,n){return 13+10*(e-n.length/2-.5)}).text(function(t){return t})});});"
      ]
     },
     "metadata": {},
     "output_type": "display_data"
    },
    {
     "data": {
      "image/png": "[encoded data removed]",
      "text/plain": [
       "<Figure size 864x576 with 1 Axes>"
      ]
     },
     "metadata": {},
     "output_type": "display_data"
    }
   ],
   "source": [
    "_generate_report(\"darbin\")"
   ]
  },
  {
   "cell_type": "markdown",
   "metadata": {
    "_uuid": "862459ae55153e5fdb0131e1e6f99a18c12755d0"
   },
   "source": [
    "To generate the analysis report for your kaggle profile, Follow these steps: \n",
    "\n",
    "1. Fork This Kernel (Also, upvote the kernel)\n",
    "2. In the last cell, call _generate_report(\"your_kaggle_user_name\")"
   ]
  }
 ],
 "metadata": {
  "kernelspec": {
   "display_name": "Python 3",
   "language": "python",
   "name": "python3"
  },
  "language_info": {
   "codemirror_mode": {
    "name": "ipython",
    "version": 3
   },
   "file_extension": ".py",
   "mimetype": "text/x-python",
   "name": "python",
   "nbconvert_exporter": "python",
   "pygments_lexer": "ipython3",
   "version": "3.6.6"
  }
 },
 "nbformat": 4,
 "nbformat_minor": 1
}
