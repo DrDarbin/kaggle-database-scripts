{
 "cells": [
  {
   "cell_type": "markdown",
   "metadata": {},
   "source": [
    "# Kernel: how long till the gold medal?"
   ]
  },
  {
   "cell_type": "markdown",
   "metadata": {},
   "source": [
    "**The script helps to identify the number of upvotes counted for a medal.**\n",
    "\n",
    "**You can check your own or anybody else kernels.**\n",
    "\n",
    "Not every upvote of your kernel counts towards medals: \n",
    "\n",
    "> self-votes and votes by novices are excluded from medal calculation. \n",
    "\n",
    "\\* votes on old posts are also excluded from the medal calculation, but the script doesn't do this check.\n",
    "\n",
    "\\** there probably a 1 day lag in the amount of upvotes you see since the database is updated by kaggle not every hour\n",
    "\n",
    "\\*** Before running the script insure that add \"Meta Kaggle\" dataset via Add dataset->Datasets->Search for \"Meta Kaggle\" (Every time Kaggle updates the database, it deletes the previous one and it is no longer available)."
   ]
  },
  {
   "cell_type": "markdown",
   "metadata": {},
   "source": [
    "# Basic setup"
   ]
  },
  {
   "cell_type": "code",
   "execution_count": 1,
   "metadata": {
    "_cell_guid": "b1076dfc-b9ad-4769-8c92-a6c4dae69d19",
    "_kg_hide-input": true,
    "_uuid": "8f2839f25d086af736a60e9eeb907d3b93b6e0e5"
   },
   "outputs": [],
   "source": [
    "import numpy as np\n",
    "import pandas as pd\n",
    "from matplotlib import pyplot as plt\n",
    "import seaborn as sns\n",
    "sns.set()\n",
    "import os\n",
    "#print(os.listdir(\"../input\"))\n",
    "\n",
    "Users = pd.read_csv('../input/Users.csv').rename(columns = {'Id': 'UsersId'})\n",
    "Kernels = pd.read_csv('../input/Kernels.csv').rename(columns = {'Id': 'KernelsId'})\n",
    "KernelVersions = pd.read_csv('../input/KernelVersions.csv').rename(columns = {'Id': 'KernelVersionsId'})\n",
    "KernelVotes = pd.read_csv('../input/KernelVotes.csv').rename(columns = {'Id': 'KernelVotesId'})"
   ]
  },
  {
   "cell_type": "markdown",
   "metadata": {},
   "source": [
    "# Kernels to evaluate"
   ]
  },
  {
   "cell_type": "markdown",
   "metadata": {},
   "source": [
    "My kernels to evaluate:\n",
    "\n",
    "* [Clustering blender: https://www.kaggle.com/darbin/clustering-blender-of-0-901-solutions](https://www.kaggle.com/darbin/clustering-blender-of-0-901-solutions)\n",
    "* [PCA blender: https://www.kaggle.com/darbin/pca-blender-of-0-901-solutions](https://www.kaggle.com/darbin/pca-blender-of-0-901-solutions)\n",
    "* [Weighted naive benchmark: https://www.kaggle.com/darbin/weighted-naive-benchmark-lb-2-081](https://www.kaggle.com/darbin/weighted-naive-benchmark-lb-2-081)\n",
    "* [Count \"not novices\" upvotes: https://www.kaggle.com/darbin/count-not-novices-kernels-upvotes-to-get-medal](https://www.kaggle.com/darbin/count-not-novices-kernels-upvotes-to-get-medal)\n",
    "* [Discussion upvotes: how long till the medal?: https://www.kaggle.com/darbin/discussion-upvotes-how-long-till-the-medal](https://www.kaggle.com/darbin/discussion-upvotes-how-long-till-the-medal)\n",
    "* [Logit for 200 PCA features: https://www.kaggle.com/darbin/logit-for-200-pca-features](https://www.kaggle.com/darbin/logit-for-200-pca-features)\n",
    "* [Random solution (AUC = 0.5): https://www.kaggle.com/darbin/random-solution-auc-0-5](https://www.kaggle.com/darbin/random-solution-auc-0-5)\n",
    "* [Naive benchmark (extended explanation): https://www.kaggle.com/darbin/naive-benchmark-extended-explanation](https://www.kaggle.com/darbin/naive-benchmark-extended-explanation)\n",
    "* [XGBoost tuned with pipelines: https://www.kaggle.com/darbin/xgboost-tuned-with-pipelines](https://www.kaggle.com/darbin/xgboost-tuned-with-pipelines)\n",
    "* [CV on pipelines for XGBoost: https://www.kaggle.com/darbin/cross-validation-on-pipelines-for-xgboost](https://www.kaggle.com/darbin/cross-validation-on-pipelines-for-xgboost)"
   ]
  },
  {
   "cell_type": "code",
   "execution_count": 2,
   "metadata": {},
   "outputs": [
    {
     "name": "stdout",
     "output_type": "stream",
     "text": [
      "Ok\n"
     ]
    }
   ],
   "source": [
    "# put your kernel slugs here (it is a final part of a kernel url)\n",
    "my_kernels_list = ['clustering-blender-of-0-901-solutions', \n",
    "                   'pca-blender-of-0-901-solutions', \n",
    "                   'weighted-naive-benchmark-lb-2-081',\n",
    "                   'count-not-novices-kernels-upvotes-to-get-medal',\n",
    "                   'discussion-upvotes-how-long-till-the-medal',\n",
    "                   'logit-for-200-pca-features',\n",
    "                   'random-solution-auc-0-5', \n",
    "                   'naive-benchmark-extended-explanation',\n",
    "                   'xgboost-tuned-with-pipelines', \n",
    "                   'cross-validation-on-pipelines-for-xgboost']\n",
    "\n",
    "# error checking\n",
    "# if you created kernel 1 day ago it still can take time (1-2 days) to appear in the Kaggle open source database \n",
    "# so if the kernel is absent in the database or it is misspelled then script will through an error\n",
    "error_counter = 0\n",
    "for i, kernel in enumerate(my_kernels_list):\n",
    "    if(len(Kernels[Kernels.CurrentUrlSlug == kernel]['KernelsId']) == 0):\n",
    "        error_counter += 1\n",
    "        print(\"Error in the\", i, \"kernel slug: \", kernel, \n",
    "              \"\\n\\rCheck the correctness of the slug\\n\\ror probably it is not added to the Kaggle open source database yet. Try to check it tomorrow.\\n\\r\")\n",
    "\n",
    "if(error_counter == 0): print(\"Ok\")"
   ]
  },
  {
   "cell_type": "markdown",
   "metadata": {},
   "source": [
    "# Count \"not novices\" upvotes"
   ]
  },
  {
   "cell_type": "code",
   "execution_count": 3,
   "metadata": {
    "_kg_hide-input": true
   },
   "outputs": [
    {
     "name": "stdout",
     "output_type": "stream",
     "text": [
      "0 clustering-blender-of-0-901-solutions\n",
      "1 pca-blender-of-0-901-solutions\n",
      "2 weighted-naive-benchmark-lb-2-081\n",
      "3 count-not-novices-kernels-upvotes-to-get-medal\n",
      "4 discussion-upvotes-how-long-till-the-medal\n",
      "5 logit-for-200-pca-features\n",
      "6 random-solution-auc-0-5\n",
      "7 naive-benchmark-extended-explanation\n",
      "8 xgboost-tuned-with-pipelines\n",
      "9 cross-validation-on-pipelines-for-xgboost\n"
     ]
    },
    {
     "data": {
      "text/html": [
       "<div>\n",
       "<style scoped>\n",
       "    .dataframe tbody tr th:only-of-type {\n",
       "        vertical-align: middle;\n",
       "    }\n",
       "\n",
       "    .dataframe tbody tr th {\n",
       "        vertical-align: top;\n",
       "    }\n",
       "\n",
       "    .dataframe thead th {\n",
       "        text-align: right;\n",
       "    }\n",
       "</style>\n",
       "<table border=\"1\" class=\"dataframe\">\n",
       "  <thead>\n",
       "    <tr style=\"text-align: right;\">\n",
       "      <th></th>\n",
       "      <th>Kernel</th>\n",
       "      <th>CountedUpvotes</th>\n",
       "      <th>TotalUpvotes</th>\n",
       "      <th>RemainedUpvotes_Bronze</th>\n",
       "      <th>RemainedUpvotes_Silver</th>\n",
       "      <th>RemainedUpvotes_Gold</th>\n",
       "    </tr>\n",
       "  </thead>\n",
       "  <tbody>\n",
       "    <tr>\n",
       "      <th>0</th>\n",
       "      <td>clustering-blender-of-0-901-solutions</td>\n",
       "      <td>49</td>\n",
       "      <td>60</td>\n",
       "      <td>0</td>\n",
       "      <td>0</td>\n",
       "      <td>1</td>\n",
       "    </tr>\n",
       "    <tr>\n",
       "      <th>1</th>\n",
       "      <td>pca-blender-of-0-901-solutions</td>\n",
       "      <td>25</td>\n",
       "      <td>27</td>\n",
       "      <td>0</td>\n",
       "      <td>0</td>\n",
       "      <td>25</td>\n",
       "    </tr>\n",
       "    <tr>\n",
       "      <th>2</th>\n",
       "      <td>weighted-naive-benchmark-lb-2-081</td>\n",
       "      <td>18</td>\n",
       "      <td>22</td>\n",
       "      <td>0</td>\n",
       "      <td>2</td>\n",
       "      <td>32</td>\n",
       "    </tr>\n",
       "    <tr>\n",
       "      <th>3</th>\n",
       "      <td>count-not-novices-kernels-upvotes-to-get-medal</td>\n",
       "      <td>9</td>\n",
       "      <td>11</td>\n",
       "      <td>0</td>\n",
       "      <td>11</td>\n",
       "      <td>41</td>\n",
       "    </tr>\n",
       "    <tr>\n",
       "      <th>4</th>\n",
       "      <td>discussion-upvotes-how-long-till-the-medal</td>\n",
       "      <td>5</td>\n",
       "      <td>6</td>\n",
       "      <td>0</td>\n",
       "      <td>15</td>\n",
       "      <td>45</td>\n",
       "    </tr>\n",
       "    <tr>\n",
       "      <th>5</th>\n",
       "      <td>logit-for-200-pca-features</td>\n",
       "      <td>3</td>\n",
       "      <td>4</td>\n",
       "      <td>2</td>\n",
       "      <td>17</td>\n",
       "      <td>47</td>\n",
       "    </tr>\n",
       "    <tr>\n",
       "      <th>6</th>\n",
       "      <td>random-solution-auc-0-5</td>\n",
       "      <td>3</td>\n",
       "      <td>5</td>\n",
       "      <td>2</td>\n",
       "      <td>17</td>\n",
       "      <td>47</td>\n",
       "    </tr>\n",
       "    <tr>\n",
       "      <th>7</th>\n",
       "      <td>naive-benchmark-extended-explanation</td>\n",
       "      <td>2</td>\n",
       "      <td>5</td>\n",
       "      <td>3</td>\n",
       "      <td>18</td>\n",
       "      <td>48</td>\n",
       "    </tr>\n",
       "    <tr>\n",
       "      <th>8</th>\n",
       "      <td>xgboost-tuned-with-pipelines</td>\n",
       "      <td>2</td>\n",
       "      <td>4</td>\n",
       "      <td>3</td>\n",
       "      <td>18</td>\n",
       "      <td>48</td>\n",
       "    </tr>\n",
       "    <tr>\n",
       "      <th>9</th>\n",
       "      <td>cross-validation-on-pipelines-for-xgboost</td>\n",
       "      <td>1</td>\n",
       "      <td>2</td>\n",
       "      <td>4</td>\n",
       "      <td>19</td>\n",
       "      <td>49</td>\n",
       "    </tr>\n",
       "  </tbody>\n",
       "</table>\n",
       "</div>"
      ],
      "text/plain": [
       "                                           Kernel         ...          RemainedUpvotes_Gold\n",
       "0           clustering-blender-of-0-901-solutions         ...                             1\n",
       "1                  pca-blender-of-0-901-solutions         ...                            25\n",
       "2               weighted-naive-benchmark-lb-2-081         ...                            32\n",
       "3  count-not-novices-kernels-upvotes-to-get-medal         ...                            41\n",
       "4      discussion-upvotes-how-long-till-the-medal         ...                            45\n",
       "5                      logit-for-200-pca-features         ...                            47\n",
       "6                         random-solution-auc-0-5         ...                            47\n",
       "7            naive-benchmark-extended-explanation         ...                            48\n",
       "8                    xgboost-tuned-with-pipelines         ...                            48\n",
       "9       cross-validation-on-pipelines-for-xgboost         ...                            49\n",
       "\n",
       "[10 rows x 6 columns]"
      ]
     },
     "execution_count": 3,
     "metadata": {},
     "output_type": "execute_result"
    }
   ],
   "source": [
    "# 'CountedUpvotes' is the target - this is the number of users who are not Novices and who didn't upwote his own kernel\n",
    "\n",
    "# result table\n",
    "kernel_upvotes = pd.DataFrame(\n",
    "    columns = ['Kernel', \n",
    "               'CountedUpvotes', # novices and own upvotes are excluded\n",
    "               'TotalUpvotes', # total upvotes\n",
    "               'RemainedUpvotes_Bronze', # = 5 - CountedUpvotes\n",
    "               'RemainedUpvotes_Silver', # = 20 - CountedUpvotes\n",
    "               'RemainedUpvotes_Gold' # = 50 - CountedUpvotes\n",
    "                ])\n",
    "\n",
    "for i, kernel in enumerate(my_kernels_list):\n",
    "    print(i, kernel)\n",
    "    my_current_kernel_slug = my_kernels_list[i]\n",
    "    my_user_id = float(Kernels[Kernels.CurrentUrlSlug == my_current_kernel_slug]['AuthorUserId'])\n",
    "    my_kernel_id = float(Kernels[Kernels.CurrentUrlSlug == my_current_kernel_slug]['KernelsId'])\n",
    "    my_kernel_versions_id = KernelVersions[KernelVersions.KernelId == my_kernel_id]['KernelVersionsId']\n",
    "    users_id_upvoted_my_kernel = KernelVotes[KernelVotes.KernelVersionId.isin(my_kernel_versions_id)]['UserId']\n",
    "    \n",
    "    total_upvotes_count = Users[Users.UsersId.isin(users_id_upvoted_my_kernel)]['UsersId'].count()\n",
    "    \n",
    "    # upvotes which are counted for a medal\n",
    "    counted_upvotes_count = Users[Users.UsersId.isin(users_id_upvoted_my_kernel) \n",
    "                                 & (Users.PerformanceTier > 0) \n",
    "                                 & (Users.UsersId != my_user_id)]['UsersId'].count()\n",
    "\n",
    "    # results\n",
    "    kernel_upvotes.loc[ i, 'Kernel'] = my_current_kernel_slug\n",
    "    kernel_upvotes.loc[ i, 'CountedUpvotes'] = counted_upvotes_count\n",
    "    kernel_upvotes.loc[ i, 'TotalUpvotes'] = total_upvotes_count\n",
    "    kernel_upvotes.loc[ i, 'RemainedUpvotes_Bronze'] = 5 - counted_upvotes_count if counted_upvotes_count < 5 else 0\n",
    "    kernel_upvotes.loc[ i, 'RemainedUpvotes_Silver'] = 20 - counted_upvotes_count if counted_upvotes_count < 20 else 0\n",
    "    kernel_upvotes.loc[ i, 'RemainedUpvotes_Gold'] = 50 - counted_upvotes_count if counted_upvotes_count < 50 else 0\n",
    "    \n",
    "kernel_upvotes"
   ]
  },
  {
   "cell_type": "markdown",
   "metadata": {},
   "source": [
    "# Visualization"
   ]
  },
  {
   "cell_type": "code",
   "execution_count": 4,
   "metadata": {
    "_kg_hide-input": true
   },
   "outputs": [
    {
     "data": {
      "image/png": "[encoded data removed]",
      "text/plain": [
       "<Figure size 1008x576 with 1 Axes>"
      ]
     },
     "metadata": {},
     "output_type": "display_data"
    }
   ],
   "source": [
    "plt.figure(figsize = (14, 8))\n",
    "\n",
    "sns.barplot(x = 'CountedUpvotes', \n",
    "            y = 'Kernel', \n",
    "            data = kernel_upvotes.sort_values(by = ['CountedUpvotes'], ascending = False))\n",
    "\n",
    "# bronze medal zone\n",
    "plt.axvline(x = 5, color = 'orange')\n",
    "# silver medal zone\n",
    "plt.axvline(x = 20, color = 'grey')\n",
    "# gold medal zone\n",
    "plt.axvline(x = 50, color = 'gold')\n",
    "\n",
    "plt.title('Number of \"not novices\" kernels upvotes', \n",
    "          {'fontsize':'16', \n",
    "           'fontweight':'bold'})\n",
    "\n",
    "if(max(kernel_upvotes.CountedUpvotes) > 50):\n",
    "    max_tick = max(kernel_upvotes.CountedUpvotes)+1\n",
    "else:\n",
    "    max_tick = 50+1\n",
    "    \n",
    "plt.xticks(np.arange(0, max_tick, 1.0))\n",
    "plt.ylabel('Kernel')\n",
    "plt.xlabel('Upvotes count')\n",
    "plt.show()"
   ]
  }
 ],
 "metadata": {
  "kernelspec": {
   "display_name": "Python 3",
   "language": "python",
   "name": "python3"
  },
  "language_info": {
   "codemirror_mode": {
    "name": "ipython",
    "version": 3
   },
   "file_extension": ".py",
   "mimetype": "text/x-python",
   "name": "python",
   "nbconvert_exporter": "python",
   "pygments_lexer": "ipython3",
   "version": "3.6.4"
  }
 },
 "nbformat": 4,
 "nbformat_minor": 1
}
